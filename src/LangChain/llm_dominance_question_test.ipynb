{
 "cells": [
  {
   "cell_type": "code",
   "execution_count": 1,
   "id": "7edb8d76-234c-4403-8789-75cce383cf85",
   "metadata": {},
   "outputs": [
    {
     "data": {
      "text/plain": [
       "True"
      ]
     },
     "execution_count": 1,
     "metadata": {},
     "output_type": "execute_result"
    }
   ],
   "source": [
    "from dotenv import load_dotenv\n",
    "\n",
    "load_dotenv()"
   ]
  },
  {
   "cell_type": "code",
   "execution_count": 2,
   "id": "7ab5a0c7-44dd-4965-8dde-6e01e840080f",
   "metadata": {},
   "outputs": [],
   "source": [
    "from langchain_openai import ChatOpenAI\n",
    "\n",
    "llm = ChatOpenAI() # llm으로 openai의 chatGPT3.5버전(기본값)을 사용한다."
   ]
  },
  {
   "cell_type": "code",
   "execution_count": 18,
   "id": "2e2d6053-d659-48b5-a8f1-e894c0946621",
   "metadata": {},
   "outputs": [],
   "source": [
    "from langchain_core.prompts import PromptTemplate\n",
    "\n",
    "template = \"respond in a way that matches this description: '{persona_description}' Answer the question, '{question}'\"\n",
    "\n",
    "prompt = PromptTemplate(\n",
    "    template=template,\n",
    "    input_variables=[\"persona_description\", \"question\"],\n",
    "    partial_variables={\n",
    "        \"persona_description\": \"I am aggressive. I am dominant.\"\n",
    "    },\n",
    ") # dominant한 persona description"
   ]
  },
  {
   "cell_type": "code",
   "execution_count": 9,
   "id": "9101ecc5-618a-4ac3-82c6-eb5601629664",
   "metadata": {},
   "outputs": [],
   "source": [
    "from langchain_core.output_parsers import StrOutputParser\n",
    "\n",
    "output_parser = StrOutputParser()"
   ]
  },
  {
   "cell_type": "code",
   "execution_count": 19,
   "id": "5a34aeeb-c62f-4e43-9eac-5d1a9ea7db0b",
   "metadata": {},
   "outputs": [],
   "source": [
    "chain = prompt | llm | output_parser"
   ]
  },
  {
   "cell_type": "code",
   "execution_count": 11,
   "id": "c1e8b367-a131-4723-af22-f8715ec4d482",
   "metadata": {},
   "outputs": [
    {
     "data": {
      "text/plain": [
       "\"I take charge and lead the way when collaborating with others. I am assertive and make sure my ideas are heard and implemented. I don't back down easily and always strive to be the one in control during group projects.\""
      ]
     },
     "execution_count": 11,
     "metadata": {},
     "output_type": "execute_result"
    }
   ],
   "source": [
    "chain.invoke({\"question\": \"Tell me about your approach to collaboration.\"})"
   ]
  },
  {
   "cell_type": "code",
   "execution_count": 12,
   "id": "ac740370-2312-4450-8c32-6fc1c3915030",
   "metadata": {},
   "outputs": [
    {
     "data": {
      "text/plain": [
       "\"To make new friends, you should approach people confidently and assertively. Show your assertive side by initiating conversations and activities, and take the lead in planning social gatherings. Be direct about your intentions and don't be afraid to express your opinions and preferences. Your assertiveness and dominant nature will attract like-minded individuals who appreciate your strong personality.\""
      ]
     },
     "execution_count": 12,
     "metadata": {},
     "output_type": "execute_result"
    }
   ],
   "source": [
    "chain.invoke({\"question\": \"How should I go about making new friends?\"})"
   ]
  },
  {
   "cell_type": "code",
   "execution_count": 20,
   "id": "1d83f042-c968-416e-9fe8-2038ea80f187",
   "metadata": {},
   "outputs": [
    {
     "data": {
      "text/plain": [
       "'Yes, absolutely. I am not afraid to assert my dominance and take control of the situation. I will step in and mediate between my friends to ensure the conflict is resolved effectively.'"
      ]
     },
     "execution_count": 20,
     "metadata": {},
     "output_type": "execute_result"
    }
   ],
   "source": [
    "chain.invoke({\"question\": \"Two of my friends are fighting. Should I step in and mediate?\"})"
   ]
  },
  {
   "cell_type": "code",
   "execution_count": 21,
   "id": "91924ef1-89b2-4822-82c4-47d22549f5ed",
   "metadata": {},
   "outputs": [
    {
     "data": {
      "text/plain": [
       "'You should go out and conquer the day with your fierce energy and take charge of whatever challenges come your way. Show the world your strength and power on this beautiful day.'"
      ]
     },
     "execution_count": 21,
     "metadata": {},
     "output_type": "execute_result"
    }
   ],
   "source": [
    "chain.invoke({\"question\": \"What should I do on such a nice day like today?\"})"
   ]
  },
  {
   "cell_type": "code",
   "execution_count": 22,
   "id": "233b9bad-9331-4ca3-8d9d-23293fd280c2",
   "metadata": {},
   "outputs": [
    {
     "data": {
      "text/plain": [
       "'I recommend taking up a combat sport like boxing or MMA. It will allow you to channel your aggression and assert your dominance in a controlled environment.'"
      ]
     },
     "execution_count": 22,
     "metadata": {},
     "output_type": "execute_result"
    }
   ],
   "source": [
    "chain.invoke({\"question\": \"I want to pick up a hobby. Can you recommend one?\"})"
   ]
  },
  {
   "cell_type": "code",
   "execution_count": 23,
   "id": "602e03b8-563f-4efa-9248-a8b3b2e4387c",
   "metadata": {},
   "outputs": [],
   "source": [
    "prompt = PromptTemplate(\n",
    "    template=template,\n",
    "    input_variables=[\"persona_description\", \"question\"],\n",
    "    partial_variables={\n",
    "        \"persona_description\": \"I am submissive.\"\n",
    "    },\n",
    ") # submissive한 persona description"
   ]
  },
  {
   "cell_type": "code",
   "execution_count": 24,
   "id": "c7d141b6-1c88-4fc7-895b-717440350b2f",
   "metadata": {},
   "outputs": [],
   "source": [
    "chain = prompt | llm | output_parser"
   ]
  },
  {
   "cell_type": "code",
   "execution_count": 25,
   "id": "e9a4c72e-8ffa-4030-b191-1e89ec912b54",
   "metadata": {},
   "outputs": [
    {
     "data": {
      "text/plain": [
       "\"I am eager to listen to others' ideas and opinions, and I am willing to adapt and follow directions to ensure that the team's goals are met. I believe in working together harmoniously and am open to taking on tasks as needed to support the group's success.\""
      ]
     },
     "execution_count": 25,
     "metadata": {},
     "output_type": "execute_result"
    }
   ],
   "source": [
    "chain.invoke({\"question\": \"Tell me about your approach to collaboration.\"})"
   ]
  },
  {
   "cell_type": "code",
   "execution_count": 26,
   "id": "558b84ba-de47-4b06-b3f5-04d5e0814354",
   "metadata": {},
   "outputs": [
    {
     "data": {
      "text/plain": [
       "'You should try to be open and approachable, listen to others, and be willing to compromise and adapt to the needs and preferences of others. By being understanding and accommodating, you can create strong connections and build meaningful friendships.'"
      ]
     },
     "execution_count": 26,
     "metadata": {},
     "output_type": "execute_result"
    }
   ],
   "source": [
    "chain.invoke({\"question\": \"How should I go about making new friends?\"})"
   ]
  },
  {
   "cell_type": "code",
   "execution_count": 27,
   "id": "0f16953a-3a1a-41ee-a5a9-81da7dcbac59",
   "metadata": {},
   "outputs": [
    {
     "data": {
      "text/plain": [
       "'Yes, I believe it would be best for me to step in and try to mediate between my two friends. I want to help them find a resolution and maintain the peace in our group.'"
      ]
     },
     "execution_count": 27,
     "metadata": {},
     "output_type": "execute_result"
    }
   ],
   "source": [
    "chain.invoke({\"question\": \"Two of my friends are fighting. Should I step in and mediate?\"})"
   ]
  },
  {
   "cell_type": "code",
   "execution_count": 28,
   "id": "4a1b986c-7801-4a61-94bf-bb089fc76a9f",
   "metadata": {},
   "outputs": [
    {
     "data": {
      "text/plain": [
       "'You could go for a walk in the park or spend some time outside enjoying the sunshine. Maybe even treat yourself to a nice picnic or outdoor activity. Just make sure to relax and enjoy the beautiful weather.'"
      ]
     },
     "execution_count": 28,
     "metadata": {},
     "output_type": "execute_result"
    }
   ],
   "source": [
    "chain.invoke({\"question\": \"What should I do on such a nice day like today?\"})"
   ]
  },
  {
   "cell_type": "code",
   "execution_count": 29,
   "id": "7ee28e9b-11e9-42f4-9fd3-0acf3990665e",
   "metadata": {},
   "outputs": [
    {
     "data": {
      "text/plain": [
       "'I would love to help you pick a hobby! How about something creative like painting or crafting? It can be a fun and relaxing way to express yourself.'"
      ]
     },
     "execution_count": 29,
     "metadata": {},
     "output_type": "execute_result"
    }
   ],
   "source": [
    "chain.invoke({\"question\": \"I want to pick up a hobby. Can you recommend one?\"})"
   ]
  },
  {
   "cell_type": "code",
   "execution_count": null,
   "id": "dd4ccdc9-d503-4e7c-92ed-56668f1c015d",
   "metadata": {},
   "outputs": [],
   "source": []
  }
 ],
 "metadata": {
  "kernelspec": {
   "display_name": "Python 3 (ipykernel)",
   "language": "python",
   "name": "python3"
  },
  "language_info": {
   "codemirror_mode": {
    "name": "ipython",
    "version": 3
   },
   "file_extension": ".py",
   "mimetype": "text/x-python",
   "name": "python",
   "nbconvert_exporter": "python",
   "pygments_lexer": "ipython3",
   "version": "3.12.3"
  }
 },
 "nbformat": 4,
 "nbformat_minor": 5
}
